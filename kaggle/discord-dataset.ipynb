{
 "cells": [
  {
   "cell_type": "code",
   "execution_count": 1,
   "metadata": {},
   "outputs": [],
   "source": [
    "import requests\n",
    "from bs4 import BeautifulSoup\n",
    "\n",
    "reqUrl = \"https://discord.com/servers\"\n",
    "\n",
    "headersList = {\n",
    " \"Accept\": \"*/*\",\n",
    " \"User-Agent\": \"Thunder Client (https://www.thunderclient.com)\" \n",
    "}\n",
    "\n",
    "payload = \"\"\n",
    "\n",
    "response = requests.request(\"GET\", reqUrl, data=payload,  headers=headersList)\n",
    "\n",
    "soup = BeautifulSoup(response.content, 'html.parser')"
   ]
  },
  {
   "cell_type": "code",
   "execution_count": null,
   "metadata": {},
   "outputs": [],
   "source": [
    "product_list = players_list = soup.find('div', class_='searchResultsContainer-BSLoQy').find_all(\"div\", \"searchListItem-3mtFl3\")"
   ]
  },
  {
   "cell_type": "code",
   "execution_count": 9,
   "metadata": {},
   "outputs": [
    {
     "name": "stdout",
     "output_type": "stream",
     "text": [
      "Server Name: Midjourney\n",
      "Server Description: The official server for Midjourney, a text-to-image AI where your imagination is the only limit.\n",
      "Online Members: 1,793,328 Online\n",
      "Verified: True\n",
      "------------------\n",
      "Server Name: LimeWire - create AI Images, Audio & Video (formerly BlueWillow)\n",
      "Server Description: Our active text-to-image AI community powers your journey to generate the best art, images, and design.\n",
      "Online Members: 121,966 Online\n",
      "Verified: True\n",
      "------------------\n",
      "Server Name: Leonardo.Ai\n",
      "Server Description: Leonardo.Ai is a generative AI platform for content creation. Create game assets, artwork, design elements, and more!\n",
      "Online Members: 113,787 Online\n",
      "Verified: True\n",
      "------------------\n"
     ]
    },
    {
     "ename": "AttributeError",
     "evalue": "'NoneType' object has no attribute 'text'",
     "output_type": "error",
     "traceback": [
      "\u001b[0;31m---------------------------------------------------------------------------\u001b[0m",
      "\u001b[0;31mAttributeError\u001b[0m                            Traceback (most recent call last)",
      "\u001b[1;32m/home/ninja/vscode/Kaggle/kaggle/discord-dataset.ipynb Cell 3\u001b[0m line \u001b[0;36m6\n\u001b[1;32m      <a href='vscode-notebook-cell:/home/ninja/vscode/Kaggle/kaggle/discord-dataset.ipynb#W3sZmlsZQ%3D%3D?line=3'>4</a>\u001b[0m online_members \u001b[39m=\u001b[39m soup\u001b[39m.\u001b[39mselect_one(\u001b[39m'\u001b[39m\u001b[39m.listGuildMemberCount-GQYU_m:nth-of-type(1)\u001b[39m\u001b[39m'\u001b[39m)\u001b[39m.\u001b[39mtext\u001b[39m.\u001b[39mstrip()\n\u001b[1;32m      <a href='vscode-notebook-cell:/home/ninja/vscode/Kaggle/kaggle/discord-dataset.ipynb#W3sZmlsZQ%3D%3D?line=4'>5</a>\u001b[0m \u001b[39m#total_members = soup.select_one('.listGuildMemberCount-GQYU_m:nth-of-type(2)').text.strip()\u001b[39;00m\n\u001b[0;32m----> <a href='vscode-notebook-cell:/home/ninja/vscode/Kaggle/kaggle/discord-dataset.ipynb#W3sZmlsZQ%3D%3D?line=5'>6</a>\u001b[0m is_verified \u001b[39m=\u001b[39m \u001b[39m\"\u001b[39m\u001b[39mVerified\u001b[39m\u001b[39m\"\u001b[39m \u001b[39min\u001b[39;00m soup\u001b[39m.\u001b[39;49mselect_one(\u001b[39m'\u001b[39;49m\u001b[39m.listGuildBadgeText-1p32vg\u001b[39;49m\u001b[39m'\u001b[39;49m)\u001b[39m.\u001b[39;49mtext\u001b[39m.\u001b[39mstrip()\n\u001b[1;32m      <a href='vscode-notebook-cell:/home/ninja/vscode/Kaggle/kaggle/discord-dataset.ipynb#W3sZmlsZQ%3D%3D?line=7'>8</a>\u001b[0m \u001b[39m# Print the extracted information\u001b[39;00m\n\u001b[1;32m      <a href='vscode-notebook-cell:/home/ninja/vscode/Kaggle/kaggle/discord-dataset.ipynb#W3sZmlsZQ%3D%3D?line=8'>9</a>\u001b[0m \u001b[39mprint\u001b[39m(\u001b[39mf\u001b[39m\u001b[39m\"\u001b[39m\u001b[39mServer Name: \u001b[39m\u001b[39m{\u001b[39;00mserver_name\u001b[39m}\u001b[39;00m\u001b[39m\"\u001b[39m)\n",
      "\u001b[0;31mAttributeError\u001b[0m: 'NoneType' object has no attribute 'text'"
     ]
    }
   ],
   "source": [
    "for soup in product_list:\n",
    "    server_name = soup.select_one('.listName-GkVhEs').text.strip()\n",
    "    server_description = soup.select_one('.listDescription-1gsw9K').text.strip()\n",
    "    online_members = soup.select_one('.listGuildMemberCount-GQYU_m:nth-of-type(1)').text.strip()\n",
    "    #total_members = soup.select_one('.listGuildMemberCount-GQYU_m:nth-of-type(2)').text.strip()\n",
    "    is_verified = \"Verified\" in soup.select_one('.listGuildBadgeText-1p32vg').text.strip()\n",
    "\n",
    "    # Print the extracted information\n",
    "    print(f\"Server Name: {server_name}\")\n",
    "    print(f\"Server Description: {server_description}\")\n",
    "    print(f\"Online Members: {online_members}\")\n",
    "    #print(f\"Total Members: {total_members}\")\n",
    "    print(f\"Verified: {is_verified}\")\n",
    "    print(\"------------------\")\n"
   ]
  }
 ],
 "metadata": {
  "kernelspec": {
   "display_name": "kaggle",
   "language": "python",
   "name": "python3"
  },
  "language_info": {
   "codemirror_mode": {
    "name": "ipython",
    "version": 3
   },
   "file_extension": ".py",
   "mimetype": "text/x-python",
   "name": "python",
   "nbconvert_exporter": "python",
   "pygments_lexer": "ipython3",
   "version": "3.10.13"
  }
 },
 "nbformat": 4,
 "nbformat_minor": 2
}
