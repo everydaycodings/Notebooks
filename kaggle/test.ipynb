{
 "cells": [
  {
   "cell_type": "code",
   "execution_count": 2,
   "metadata": {},
   "outputs": [],
   "source": [
    "import pandas as pd"
   ]
  },
  {
   "cell_type": "code",
   "execution_count": 3,
   "metadata": {},
   "outputs": [],
   "source": [
    "data = pd.read_csv(\"data/huggingfacemodel.csv\")"
   ]
  },
  {
   "cell_type": "code",
   "execution_count": 4,
   "metadata": {},
   "outputs": [
    {
     "data": {
      "text/plain": [
       "array([nan, 'Text Generation', 'Automatic Speech Recognition',\n",
       "       'Text-to-Image', 'Text-to-Speech', 'Text2Text Generation',\n",
       "       'Image-to-Image', 'Conversational', 'Sentence Similarity',\n",
       "       'Summarization', 'Zero-Shot Image Classification', 'Image-to-Text',\n",
       "       'Feature Extraction', 'Fill-Mask', 'Text Classification',\n",
       "       'Translation', 'Image Classification', 'Text-to-Audio',\n",
       "       'Question Answering', 'Text-to-Video', 'Token Classification',\n",
       "       'Object Detection', 'Voice Activity Detection',\n",
       "       'Image Segmentation', 'Visual Question Answering',\n",
       "       'Zero-Shot Classification', 'Depth Estimation',\n",
       "       'Document Question Answering', 'Audio Classification',\n",
       "       'Video Classification', 'Robotics', 'Audio-to-Audio',\n",
       "       'Multiple Choice', 'Reinforcement Learning',\n",
       "       'Table Question Answering', 'Unconditional Image Generation',\n",
       "       'Graph Machine Learning', 'Tabular Regression'], dtype=object)"
      ]
     },
     "execution_count": 4,
     "metadata": {},
     "output_type": "execute_result"
    }
   ],
   "source": [
    "data[\"category\"].unique()"
   ]
  }
 ],
 "metadata": {
  "kernelspec": {
   "display_name": "kaggle",
   "language": "python",
   "name": "python3"
  },
  "language_info": {
   "codemirror_mode": {
    "name": "ipython",
    "version": 3
   },
   "file_extension": ".py",
   "mimetype": "text/x-python",
   "name": "python",
   "nbconvert_exporter": "python",
   "pygments_lexer": "ipython3",
   "version": "3.10.13"
  }
 },
 "nbformat": 4,
 "nbformat_minor": 2
}
